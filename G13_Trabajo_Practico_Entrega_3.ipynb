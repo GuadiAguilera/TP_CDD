{
 "cells": [
  {
   "cell_type": "markdown",
   "metadata": {},
   "source": [
    "# Hacer\n",
    "\n",
    "- Separar día/mes de fecha [DONE]\n",
    "- Codificar variables categóricas [DONE]\n",
    "- Métricas: accuracy, recall y matriz de confusión \n",
    "- Borrar regresión lineal porque no sirve"
   ]
  },
  {
   "cell_type": "markdown",
   "metadata": {},
   "source": [
    "### Definiciones\n",
    "\n",
    "- Encoding de etiquetas: Día de la semana, se puede ordenar\n",
    "- Binary encoding: Resto"
   ]
  },
  {
   "cell_type": "markdown",
   "metadata": {},
   "source": [
    "## Usar\n",
    "\n",
    "- Regresión lineal\n",
    "- Árbol de decisión\n",
    "\n",
    "https://chatgpt.com/share/671b97fb-7904-8006-853c-7d28072ea3c5\n",
    "\n",
    "- Algún método no supervisado?"
   ]
  },
  {
   "cell_type": "code",
   "execution_count": 1,
   "metadata": {},
   "outputs": [],
   "source": [
    "\n",
    "# Se importan librerías\n",
    "import pandas as pd\n",
    "import numpy as np\n",
    "import matplotlib.pyplot as plt\n",
    "from sklearn.model_selection import train_test_split\n",
    "from sklearn.linear_model import LinearRegression\n",
    "from sklearn.ensemble import RandomForestRegressor\n",
    "from sklearn.metrics import root_mean_squared_error\n",
    "from sklearn.preprocessing import StandardScaler\n",
    "from sklearn.decomposition import PCA\n",
    "import category_encoders as ce\n",
    "from sklearn.metrics import r2_score, mean_absolute_error\n",
    "from sklearn.preprocessing import PolynomialFeatures\n",
    "from sklearn.pipeline import make_pipeline\n",
    "import math"
   ]
  },
  {
   "cell_type": "code",
   "execution_count": null,
   "metadata": {},
   "outputs": [],
   "source": [
    "def prepare_dataset(filepath):\n",
    "    \"\"\"\n",
    "    Carga y preprocesa el dataset de peajes.\n",
    "    \"\"\"\n",
    "\n",
    "    dataset = pd.read_csv(filepath)\n",
    "\n",
    "    # Se eliminan las filas que contienen \"Otros\" en la columna \"tipo_cobro\"\n",
    "    # Se toma esta decisión porque su impacto es mínimo\n",
    "    dataset = dataset[dataset[\"tipo_cobro\"] != \"Otros\"]\n",
    "\n",
    "    # Se separa el día y el mes del año en columnas separadas\n",
    "    # Necesitamos que las variables sean numéricas\n",
    "    dataset[\"nro_dia\"] = pd.to_datetime(dataset[\"fecha\"]).dt.day\n",
    "    dataset[\"nro_mes\"] = pd.to_datetime(dataset[\"fecha\"]).dt.month\n",
    "    dataset[\"anio\"] = pd.to_datetime(dataset[\"fecha\"]).dt.year\n",
    "    dataset.drop(\"fecha\", axis=1, inplace=True)\n",
    "\n",
    "    return dataset"
   ]
  },
  {
   "cell_type": "code",
   "execution_count": 70,
   "metadata": {},
   "outputs": [],
   "source": [
    "def encode_columns(dataset):\n",
    "    \"\"\"\n",
    "    Codifica las columnas del dataset que tienen variables cualitativas.\n",
    "    \"\"\"\n",
    "\n",
    "    dataset = dataset.copy()\n",
    "\n",
    "    # Se codifica la categoría día de la semana con label encoding (codificación de etiquetas)\n",
    "    # Se toma esta decisión porque la variable es ordinal\n",
    "    day_encoding = {\n",
    "        'Lunes': 0,\n",
    "        'Martes': 1,\n",
    "        'Miercoles': 2,\n",
    "        'Jueves': 3,\n",
    "        'Viernes': 4,\n",
    "        'Sabado': 5,\n",
    "        'Domingo': 6\n",
    "    }\n",
    "\n",
    "    dataset['dia_semana'] = dataset['dia'].map(day_encoding)\n",
    "    dataset.drop(\"dia\", axis=1, inplace=True)\n",
    "\n",
    "    # Se codifica el resto de las variables categóricas con binary encoding (codificación binaria)\n",
    "    binary_encoder = ce.BinaryEncoder(cols=[\"id_peaje\", \"sentido\", \"tipo_vehiculo\", \"tipo_cobro\"])\n",
    "    dataset = binary_encoder.fit_transform(dataset)\n",
    "    # Eliminamos las columnas sentido_1 y tipo_vehiculo_1 porque no aportan información\n",
    "    dataset.drop([\"sentido_1\", \"tipo_vehiculo_1\"], axis=1, inplace=True)\n",
    "\n",
    "    # Cambiarle el nombre a las columnas sentido y tipo_vehículo para saber qué significa cada valor\n",
    "    dataset.rename(columns={'sentido_0': 'hacia_provincia'}, inplace=True)\n",
    "    dataset.rename(columns={'tipo_vehiculo_0': 'es_pesado'}, inplace=True)\n",
    "\n",
    "    return dataset"
   ]
  },
  {
   "cell_type": "code",
   "execution_count": 23,
   "metadata": {},
   "outputs": [],
   "source": [
    "\n",
    "def graph_predictions(y_test, y_pred):\n",
    "    \"\"\"\n",
    "    Grafica los resultados de un modelo entrenado y muestra sus métricas\n",
    "    \"\"\"\n",
    "    # Evaluar el modelo\n",
    "    mse = pow(root_mean_squared_error(y_test, y_pred), 2)\n",
    "    print(\"Error cuadrático medio (MSE):\", mse)\n",
    "\n",
    "    # Raíz del Error Cuadrático Medio (RMSE - Root Mean Squared Error)\n",
    "    rmse = np.sqrt(mse)\n",
    "\n",
    "    # Error Absoluto Medio (MAE - Mean Absolute Error)\n",
    "    mae = mean_absolute_error(y_test, y_pred)\n",
    "\n",
    "    # R² (Coeficiente de Determinación):\n",
    "    r2 = r2_score(y_test, y_pred)\n",
    "\n",
    "    # Error Absoluto Medio Porcentual (MAPE - Mean Absolute Percentage Error)\n",
    "    mape = np.mean(np.abs((y_test - y_pred) / y_test)) * 100\n",
    "\n",
    "    # Imprimir las métricas\n",
    "    print(\"Raíz del Error Cuadrático Medio (RMSE):\", rmse)\n",
    "    print(\"Error Absoluto Medio (MAE):\", mae)\n",
    "    print(\"Coeficiente de Determinación (R²):\", r2)\n",
    "    print(\"Error Absoluto Medio Porcentual (MAPE):\", mape)\n",
    "\n",
    "\n",
    "    plt.scatter(y_test, y_pred)\n",
    "    plt.plot([y_test.min(), y_test.max()], [y_test.min(), y_test.max()], 'r--', label='Identidad')\n",
    "    plt.legend(loc='upper left')\n",
    "    plt.xlabel('Valores Reales')\n",
    "    plt.ylabel('Predicciones')\n",
    "    plt.title('Gráfico de Dispersión: Valores Reales vs Predicciones')\n",
    "    plt.show()\n",
    "\n",
    "    # Gráfico de Residuos (Residual Plot). Muestra los residuos (diferencias entre los valores reales y las predicciones) en función de las predicciones.\n",
    "    residuals = y_test - y_pred\n",
    "\n",
    "    plt.scatter(y_pred, residuals)\n",
    "    plt.axhline(y=0, color='r', linestyle='--', label='Error ideal')  # Línea en y=0\n",
    "    plt.legend(loc='upper left')\n",
    "    plt.xlabel('Predicciones')\n",
    "    plt.ylabel('Residuos')\n",
    "    plt.title('Gráfico de Residuos')\n",
    "    plt.show()"
   ]
  },
  {
   "cell_type": "markdown",
   "metadata": {},
   "source": [
    "# Carga del dataset"
   ]
  },
  {
   "cell_type": "code",
   "execution_count": 40,
   "metadata": {},
   "outputs": [
    {
     "name": "stdout",
     "output_type": "stream",
     "text": [
      "<class 'pandas.core.frame.DataFrame'>\n",
      "RangeIndex: 4473491 entries, 0 to 4473490\n",
      "Data columns (total 15 columns):\n",
      " #   Column           Dtype  \n",
      "---  ------           -----  \n",
      " 0   hora             float64\n",
      " 1   id_peaje_0       int64  \n",
      " 2   id_peaje_1       int64  \n",
      " 3   id_peaje_2       int64  \n",
      " 4   hacia_provincia  int64  \n",
      " 5   es_pesado        int64  \n",
      " 6   tipo_cobro_0     int64  \n",
      " 7   tipo_cobro_1     int64  \n",
      " 8   tipo_cobro_2     int64  \n",
      " 9   tipo_cobro_3     int64  \n",
      " 10  pasos            int64  \n",
      " 11  nro_dia          int32  \n",
      " 12  nro_mes          int32  \n",
      " 13  anio             int32  \n",
      " 14  dia_semana       int64  \n",
      "dtypes: float64(1), int32(3), int64(11)\n",
      "memory usage: 460.8 MB\n"
     ]
    }
   ],
   "source": [
    "dataset_original = prepare_dataset(\"clean_data_all.csv\")\n",
    "dataset = encode_columns(dataset_original)\n",
    "dataset.sample(10)\n",
    "dataset.info()"
   ]
  },
  {
   "cell_type": "markdown",
   "metadata": {},
   "source": [
    "Se carga el dataset y se lo divide en datos de test y datos de train"
   ]
  },
  {
   "cell_type": "code",
   "execution_count": null,
   "metadata": {},
   "outputs": [],
   "source": [
    "def get_test_train_data(*x_columns, test_size=0.3):\n",
    "    \"\"\"\n",
    "    Divide el dataset en variables de entrada y salida, y en entrenamiento y prueba.\n",
    "    \"\"\"\n",
    "    if \"all\" in x_columns:\n",
    "        x_columns = ['hora', \n",
    "                     'id_peaje_0', 'id_peaje_1', 'id_peaje_2', \n",
    "                     'hacia_provincia', 'es_pesado', \n",
    "                     'tipo_cobro_0', 'tipo_cobro_1', 'tipo_cobro_2', 'tipo_cobro_3', \n",
    "                     'nro_dia', 'nro_mes', 'anio', 'dia_semana']\n",
    "    x = dataset[list(x_columns)]  \n",
    "    y = dataset['pasos'] \n",
    "\n",
    "    # Se normalizan las variables\n",
    "    scaler = StandardScaler()\n",
    "    x_scaled = pd.DataFrame(scaler.fit_transform(x), columns=x.columns)\n",
    "\n",
    "    # Se divide el dataset en entrenamiento y prueba\n",
    "    x_train, x_test, y_train, y_test = train_test_split(x_scaled, y, test_size=0.3, random_state=42)\n",
    "    return x_train, y_train, x_test, y_test"
   ]
  },
  {
   "cell_type": "markdown",
   "metadata": {},
   "source": [
    "# Regresión lineal"
   ]
  },
  {
   "cell_type": "markdown",
   "metadata": {},
   "source": [
    "Antes de realizar la regresión, se busca la correlación entre cada variable y la variable \"pasos\""
   ]
  },
  {
   "cell_type": "code",
   "execution_count": 72,
   "metadata": {},
   "outputs": [
    {
     "name": "stdout",
     "output_type": "stream",
     "text": [
      "Correlación de cada variable con 'pasos':\n",
      "es_pesado          0.224693\n",
      "tipo_cobro         0.096955\n",
      "hora               0.061210\n",
      "hacia_provincia    0.047437\n",
      "anio               0.039962\n",
      "id_peaje           0.035942\n",
      "dia_semana         0.018231\n",
      "nro_mes            0.012046\n",
      "nro_dia            0.008122\n",
      "Name: pasos, dtype: float64\n"
     ]
    }
   ],
   "source": [
    "# Calcular la correlación con la variable objetivo 'pasos'\n",
    "correlation_with_target = dataset.corr()['pasos'].drop('pasos')\n",
    "\n",
    "# Como tipo_cobro y id_peaje están codificadas, se las agrupa y se toma su media de correlación\n",
    "tipo_cobro_columns = ['tipo_cobro_0', 'tipo_cobro_1', 'tipo_cobro_2', 'tipo_cobro_3'] \n",
    "id_peaje_columns = ['id_peaje_0', 'id_peaje_1', 'id_peaje_2']  \n",
    "tipo_cobro_correlation = correlation_with_target[tipo_cobro_columns].mean()\n",
    "id_peaje_correlation = correlation_with_target[id_peaje_columns].mean()\n",
    "correlation_with_target = correlation_with_target.drop(tipo_cobro_columns + id_peaje_columns)\n",
    "\n",
    "# Agregar las correlaciones agrupadas al final de la lista y se ordena\n",
    "correlation_with_target['tipo_cobro'] = tipo_cobro_correlation\n",
    "correlation_with_target['id_peaje'] = id_peaje_correlation\n",
    "correlation_with_target = correlation_with_target.abs().sort_values(ascending=False)\n",
    "\n",
    "print(\"Correlación de cada variable con 'pasos':\")\n",
    "print(correlation_with_target)"
   ]
  },
  {
   "cell_type": "code",
   "execution_count": 75,
   "metadata": {},
   "outputs": [
    {
     "name": "stdout",
     "output_type": "stream",
     "text": [
      "Error cuadrático medio de la regresión lineal múltiple: 182478.99471311047\n"
     ]
    }
   ],
   "source": [
    "x_train, y_train, x_test, y_test = get_test_train_data(\"all\")\n",
    "\n",
    "\n",
    "# Instanciar el modelo\n",
    "linear_model = LinearRegression(fit_intercept=True, copy_X=True, n_jobs=None, positive=False)\n",
    "\n",
    "# Entrenar el modelo\n",
    "linear_model.fit(x_train, y_train)\n",
    "\n",
    "# Predecir sobre el conjunto de prueba\n",
    "y_pred = linear_model.predict(x_test)\n",
    "\n",
    "# Evaluar el modelo\n",
    "mse = root_mean_squared_error(y_test, y_pred) ** 2\n",
    "print(\"Error cuadrático medio de la regresión lineal múltiple:\", mse)\n"
   ]
  },
  {
   "cell_type": "markdown",
   "metadata": {},
   "source": [
    "## Métricas del modelo"
   ]
  },
  {
   "cell_type": "code",
   "execution_count": 76,
   "metadata": {},
   "outputs": [
    {
     "name": "stdout",
     "output_type": "stream",
     "text": [
      "Error cuadrático medio (MSE): 182478.99471311047\n",
      "Raíz del Error Cuadrático Medio (RMSE): 427.17560172967563\n",
      "Error Absoluto Medio (MAE): 239.03969306494787\n",
      "Coeficiente de Determinación (R²): 0.17916325413432632\n",
      "Error Absoluto Medio Porcentual (MAPE): 3268.769543804514\n"
     ]
    },
    {
     "data": {
      "image/png": "[encoded data removed]",
      "text/plain": [
       "<Figure size 640x480 with 1 Axes>"
      ]
     },
     "metadata": {},
     "output_type": "display_data"
    },
    {
     "data": {
      "image/png": "[encoded data removed]",
      "text/plain": [
       "<Figure size 640x480 with 1 Axes>"
      ]
     },
     "metadata": {},
     "output_type": "display_data"
    }
   ],
   "source": [
    "graph_predictions(y_test, y_pred)"
   ]
  },
  {
   "cell_type": "markdown",
   "metadata": {},
   "source": [
    "## Predicción del modelo respecto al 2024"
   ]
  },
  {
   "cell_type": "code",
   "execution_count": null,
   "metadata": {},
   "outputs": [],
   "source": [
    "### TEST DATASET 2024 ###\n",
    "# Cargar los datos desde los archivos\n",
    "dataset_train = procesar_dataset(\"clean_data.csv\")\n",
    "dataset_test = procesar_dataset(\"2024_data.csv\")\n",
    "\n",
    "# Separar las variables predictoras (X) y la variable objetivo (y) para el conjunto de entrenamiento\n",
    "x_train = dataset_train[['hora', 'id_peaje_0', 'id_peaje_1', 'id_peaje_2', 'hacia_provincia', 'es_pesado', \n",
    "                         'tipo_cobro_0', 'tipo_cobro_1', 'tipo_cobro_2', 'tipo_cobro_3',\n",
    "                         'nro_dia', 'nro_mes', 'anio', 'dia_semana']]  \n",
    "y_train = dataset_train['pasos']\n",
    "\n",
    "# Separar las variables predictoras (X) y la variable objetivo (y) para el conjunto de prueba\n",
    "x_test = dataset_test[['hora', 'id_peaje_0', 'id_peaje_1', 'id_peaje_2', 'hacia_provincia', 'es_pesado',\n",
    "                       'tipo_cobro_0', 'tipo_cobro_1', 'tipo_cobro_2', 'tipo_cobro_3',\n",
    "                       'nro_dia', 'nro_mes', 'anio', 'dia_semana']]  \n",
    "y_test = dataset_test['pasos']\n",
    "x_test.dropna(inplace=True)\n",
    "y_test = y_test[x_test.index]\n",
    "linear_model = LinearRegression(positive=True)\n",
    "\n",
    "# Entrenar el modelo\n",
    "linear_model.fit(x_train, y_train)\n",
    "\n",
    "# Predecir sobre el conjunto de prueba\n",
    "y_pred = linear_model.predict(x_test)\n"
   ]
  },
  {
   "cell_type": "code",
   "execution_count": null,
   "metadata": {},
   "outputs": [],
   "source": [
    "# TODO HAY ALGO MAL PORQUE ME DIERON EXACTAMENTE IGUAL\n",
    "\n",
    "dataset_2024 = procesar_dataset(\"2024_data.csv\")\n",
    "# Se eliminan algunos nulos que hayan quedado\n",
    "dataset_2024 = dataset.dropna()\n",
    "\n",
    "# Separar las variables predictoras (X) y la variable objetivo (y)\n",
    "x_2024 = dataset_2024[['hora', 'id_peaje_0', 'id_peaje_1', 'id_peaje_2', 'hacia_provincia', 'es_pesado', 'tipo_cobro_0', 'tipo_cobro_1', 'tipo_cobro_2', \n",
    "                       'tipo_cobro_3', 'nro_dia', 'nro_mes', 'anio', 'dia_semana']]  \n",
    "y_real_2024 = dataset_2024['pasos']\n",
    "\n",
    "# Realizar las predicciones para cada día del 2024 usando el modelo entrenado previamente\n",
    "y_pred_2024 = linear_model.predict(x_2024)\n",
    "\n",
    "# Visualización de las predicciones\n",
    "plt.figure(figsize=(14, 6))\n",
    "plt.plot(y_pred_2024, label=\"Predicción de Pasos (2024)\", color='blue')\n",
    "plt.title(\"Predicción de Pasos para Cada Día de 2024\")\n",
    "plt.xlabel(\"Días del Año 2024\")\n",
    "plt.ylabel(\"Pasos Predichos\")\n",
    "plt.legend()\n",
    "plt.show()\n",
    "\n",
    "# Visualización de los datos reales del 2024\n",
    "plt.figure(figsize=(14, 6))\n",
    "plt.plot(y_real_2024.values, label=\"Pasos Reales (2024)\", color='green')\n",
    "plt.title(\"Pasos Reales para Cada Día de 2024\")\n",
    "plt.xlabel(\"Días del Año 2024\")\n",
    "plt.ylabel(\"Pasos Reales\")\n",
    "plt.legend()\n",
    "plt.show()\n",
    "\n",
    "# Evaluación del modelo para el 2024\n",
    "mse_2024 = pow(root_mean_squared_error(y_real_2024, y_pred_2024), 2)\n",
    "mae_2024 = mean_absolute_error(y_real_2024, y_pred_2024)\n",
    "print(f\"Error Cuadrático Medio (MSE) en 2024: {mse_2024}\")\n",
    "print(f\"Error Absoluto Medio (MAE) en 2024: {mae_2024}\")"
   ]
  },
  {
   "cell_type": "markdown",
   "metadata": {},
   "source": [
    "# Random forest"
   ]
  },
  {
   "cell_type": "code",
   "execution_count": null,
   "metadata": {},
   "outputs": [],
   "source": [
    "# Instanciar y entrenar el modelo\n",
    "rf_model = RandomForestRegressor(n_estimators=10, min_samples_leaf=20, min_samples_split=15, max_depth=15)\n",
    "rf_model.fit(x_train, y_train)\n",
    "\n",
    "# Predecir en el conjunto de prueba\n",
    "y_pred_rf = rf_model.predict(x_test)\n",
    "\n",
    "# Evaluar el modelo\n",
    "mse_rf = pow(root_mean_squared_error(y_test, y_pred_rf), 2)\n",
    "print(\"Error cuadrático medio de Random Forest:\", mse_rf)\n"
   ]
  },
  {
   "cell_type": "code",
   "execution_count": null,
   "metadata": {},
   "outputs": [],
   "source": [
    "graph_predictions(y_test, y_pred_rf)"
   ]
  }
 ],
 "metadata": {
  "kernelspec": {
   "display_name": "datascience",
   "language": "python",
   "name": "python3"
  },
  "language_info": {
   "codemirror_mode": {
    "name": "ipython",
    "version": 3
   },
   "file_extension": ".py",
   "mimetype": "text/x-python",
   "name": "python",
   "nbconvert_exporter": "python",
   "pygments_lexer": "ipython3",
   "version": "3.12.4"
  }
 },
 "nbformat": 4,
 "nbformat_minor": 2
}
